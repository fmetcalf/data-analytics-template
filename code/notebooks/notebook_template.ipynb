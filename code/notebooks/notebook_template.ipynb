{
 "cells": [
  {
   "cell_type": "markdown",
   "id": "3e771424-8ec0-463c-875f-dc807fbf92ea",
   "metadata": {},
   "source": [
    "# Project Name"
   ]
  },
  {
   "cell_type": "markdown",
   "id": "189df8c1-106a-422b-9fe6-51c3c633ca67",
   "metadata": {},
   "source": [
    "**Author:** Frank Metcalf  \n",
    "**Last Modified:** 11/13/2024 (created: 11/13/2024)  \n",
    "\n",
    "**Description:** Short paragraph explaining this project. "
   ]
  },
  {
   "cell_type": "markdown",
   "id": "8c002cb6-04a1-4fbf-bc98-8b778e381b3e",
   "metadata": {},
   "source": [
    "<br>"
   ]
  },
  {
   "cell_type": "markdown",
   "id": "d6e7c14e-645c-4813-bae5-2e88f7a425dd",
   "metadata": {},
   "source": [
    "Import Libraries"
   ]
  },
  {
   "cell_type": "code",
   "execution_count": 1,
   "id": "268db872-6679-4acc-b4a6-c95338653837",
   "metadata": {},
   "outputs": [],
   "source": [
    "import pandas as pd"
   ]
  },
  {
   "cell_type": "markdown",
   "id": "de3eb17d-9bbf-4629-8030-fa76fd287b39",
   "metadata": {},
   "source": [
    "<br>"
   ]
  },
  {
   "cell_type": "markdown",
   "id": "7984ae54-9721-4ba7-9edb-48671a6427ee",
   "metadata": {},
   "source": [
    "Load data:"
   ]
  },
  {
   "cell_type": "code",
   "execution_count": 3,
   "id": "257aa1b6-4aac-4112-ae05-5f6e7b642f23",
   "metadata": {},
   "outputs": [],
   "source": [
    "## code to read csv file"
   ]
  }
 ],
 "metadata": {
  "kernelspec": {
   "display_name": "Python 3 (ipykernel)",
   "language": "python",
   "name": "python3"
  },
  "language_info": {
   "codemirror_mode": {
    "name": "ipython",
    "version": 3
   },
   "file_extension": ".py",
   "mimetype": "text/x-python",
   "name": "python",
   "nbconvert_exporter": "python",
   "pygments_lexer": "ipython3",
   "version": "3.12.4"
  }
 },
 "nbformat": 4,
 "nbformat_minor": 5
}
