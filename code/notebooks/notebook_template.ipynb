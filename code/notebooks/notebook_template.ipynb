{
 "cells": [
  {
   "cell_type": "markdown",
   "id": "3e771424-8ec0-463c-875f-dc807fbf92ea",
   "metadata": {},
   "source": [
    "# Project Name"
   ]
  },
  {
   "cell_type": "markdown",
   "id": "189df8c1-106a-422b-9fe6-51c3c633ca67",
   "metadata": {},
   "source": [
    "**Author:** Frank Metcalf  \n",
    "**Last Modified:** 11/13/2024 (created: 11/13/2024)  \n",
    "\n",
    "**Description:** Short paragraph explaining this project. "
   ]
  },
  {
   "cell_type": "markdown",
   "id": "8c002cb6-04a1-4fbf-bc98-8b778e381b3e",
   "metadata": {},
   "source": [
    "<br>"
   ]
  },
  {
   "cell_type": "markdown",
   "id": "d6e7c14e-645c-4813-bae5-2e88f7a425dd",
   "metadata": {},
   "source": [
    "Import Libraries"
   ]
  },
  {
   "cell_type": "code",
   "execution_count": 1,
   "id": "268db872-6679-4acc-b4a6-c95338653837",
   "metadata": {},
   "outputs": [],
   "source": [
    "import pandas as pd"
   ]
  },
  {
   "cell_type": "markdown",
   "id": "de3eb17d-9bbf-4629-8030-fa76fd287b39",
   "metadata": {},
   "source": [
    "<br>"
   ]
  },
  {
   "cell_type": "markdown",
   "id": "7984ae54-9721-4ba7-9edb-48671a6427ee",
   "metadata": {},
   "source": [
    "Load data:"
   ]
  },
  {
   "cell_type": "code",
   "execution_count": 2,
   "id": "257aa1b6-4aac-4112-ae05-5f6e7b642f23",
   "metadata": {},
   "outputs": [],
   "source": [
    "## code to read csv file\n",
    "#df = pd.read_csv(\"df_name\", delimiter = 'delimiter type', encoding ='utf-8')"
   ]
  },
  {
   "cell_type": "markdown",
   "id": "c4c0091d-2947-42c8-960f-17e7eca0ecce",
   "metadata": {},
   "source": [
    "<br>"
   ]
  },
  {
   "cell_type": "markdown",
   "id": "ceeb0aa4-fe88-47f9-b914-c32b63d26a1f",
   "metadata": {},
   "source": [
    "How to make a dictionary out of lists:"
   ]
  },
  {
   "cell_type": "code",
   "execution_count": 3,
   "id": "5de4049d-7fae-47ec-ab58-fbdbac350d81",
   "metadata": {},
   "outputs": [],
   "source": [
    "#code\n",
    "#dictionary={\n",
    "   # \"column_name\":list_name,\n",
    "   # \"column_name\":list_name,\n",
    "   # \"column_name\":list_name,\n",
    "   # \"column_name\":list_name\n",
    "#}"
   ]
  },
  {
   "cell_type": "markdown",
   "id": "f696f693-ab74-4a8d-8630-4fa80826caf9",
   "metadata": {},
   "source": [
    "<br>"
   ]
  },
  {
   "cell_type": "markdown",
   "id": "90c0427a-defe-49f5-b55d-91f9c1be3fb1",
   "metadata": {},
   "source": [
    "Create a dataframe out of the dictionary"
   ]
  },
  {
   "cell_type": "code",
   "execution_count": 4,
   "id": "6d217383-745f-4c2a-b5f8-a158f1379abc",
   "metadata": {},
   "outputs": [],
   "source": [
    "#code\n",
    "#df = pd.DataFrame(dictionary)"
   ]
  },
  {
   "cell_type": "markdown",
   "id": "674a5384-73c7-4aef-891c-610712cd6e4a",
   "metadata": {},
   "source": [
    "<br>"
   ]
  },
  {
   "cell_type": "markdown",
   "id": "0e73b5f7-ca50-47c3-9105-1d19f1436358",
   "metadata": {},
   "source": [
    "Rename a column"
   ]
  },
  {
   "cell_type": "code",
   "execution_count": 5,
   "id": "2bc517f1-6fc7-49bf-9088-b388c4870e38",
   "metadata": {},
   "outputs": [],
   "source": [
    "#code\n",
    "#df = df.rename(columns= {\"old name\": \"new_name\"})"
   ]
  },
  {
   "cell_type": "markdown",
   "id": "8fc3b287-c2a1-42f2-9530-5567017e294c",
   "metadata": {},
   "source": [
    "<br>"
   ]
  },
  {
   "cell_type": "markdown",
   "id": "b53943b5-e707-47a1-971a-b261efb0e0ae",
   "metadata": {},
   "source": [
    "See if there is any missing data"
   ]
  },
  {
   "cell_type": "code",
   "execution_count": 6,
   "id": "93db7467-a70b-42af-a84e-8ee7e33418ae",
   "metadata": {},
   "outputs": [],
   "source": [
    "#code\n",
    "#print(df.isna().sum())"
   ]
  },
  {
   "cell_type": "markdown",
   "id": "d4b4c887-aa6e-4676-80e3-33c537016242",
   "metadata": {},
   "source": [
    "<br>"
   ]
  },
  {
   "cell_type": "markdown",
   "id": "b959dd84-062b-4ae9-98da-0168b2e3afcc",
   "metadata": {},
   "source": [
    "Check for duplicates"
   ]
  },
  {
   "cell_type": "code",
   "execution_count": 7,
   "id": "bb414ae4-3a46-4afa-8d11-134652932e62",
   "metadata": {},
   "outputs": [],
   "source": [
    "#code\n",
    "#duplicates = df[df.duplicated(keep=False)]\n",
    "#duplicates = len(duplicates)"
   ]
  },
  {
   "cell_type": "markdown",
   "id": "590c152c-ddc6-45dc-9b26-7277b3d92b73",
   "metadata": {},
   "source": [
    "<br>"
   ]
  },
  {
   "cell_type": "markdown",
   "id": "661a8a1b-ccdf-47d8-8add-7ced422cf84c",
   "metadata": {},
   "source": [
    "Remove duplicates"
   ]
  },
  {
   "cell_type": "code",
   "execution_count": 8,
   "id": "6c79b598-1b28-4594-b83b-6ee55ca80d0e",
   "metadata": {},
   "outputs": [],
   "source": [
    "#code\n",
    "#df= df.drop_duplicates()\n"
   ]
  },
  {
   "cell_type": "markdown",
   "id": "d094d0ca-f090-4922-a9d3-a9f1fb74eec2",
   "metadata": {},
   "source": [
    "<br>"
   ]
  },
  {
   "cell_type": "markdown",
   "id": "6c0e4ea1-cb54-4c59-ac0b-fd36582a44ce",
   "metadata": {},
   "source": [
    "Get rid of white space"
   ]
  },
  {
   "cell_type": "code",
   "execution_count": 9,
   "id": "92da07a8-3756-4cda-8ef9-5e2f58c0a43d",
   "metadata": {},
   "outputs": [],
   "source": [
    "#code\n",
    "#df['column_name']=df['column_name'].str.strip()"
   ]
  },
  {
   "cell_type": "markdown",
   "id": "9e1f8778-333c-4b37-b3b5-f178f760bc66",
   "metadata": {},
   "source": [
    "<br>"
   ]
  },
  {
   "cell_type": "markdown",
   "id": "6fc070cb-4ec9-475a-bdbb-dfc838a43d57",
   "metadata": {},
   "source": [
    "Save a dataframe to a csv"
   ]
  },
  {
   "cell_type": "code",
   "execution_count": 10,
   "id": "eac53dff-fa1e-4e02-87a6-01951ea03cbb",
   "metadata": {},
   "outputs": [],
   "source": [
    "#code\n",
    "#df.to_csv(\"name_the_file\", encoding='utf-8', index=False)"
   ]
  }
 ],
 "metadata": {
  "kernelspec": {
   "display_name": "Python 3 (ipykernel)",
   "language": "python",
   "name": "python3"
  },
  "language_info": {
   "codemirror_mode": {
    "name": "ipython",
    "version": 3
   },
   "file_extension": ".py",
   "mimetype": "text/x-python",
   "name": "python",
   "nbconvert_exporter": "python",
   "pygments_lexer": "ipython3",
   "version": "3.12.4"
  }
 },
 "nbformat": 4,
 "nbformat_minor": 5
}
